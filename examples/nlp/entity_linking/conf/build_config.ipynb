{
 "cells": [
  {
   "cell_type": "code",
   "execution_count": 1,
   "metadata": {},
   "outputs": [],
   "source": [
    "import yaml\n",
    "from omegaconf import OmegaConf"
   ]
  },
  {
   "cell_type": "code",
   "execution_count": 2,
   "metadata": {},
   "outputs": [],
   "source": [
    "PROJECT_DIR = \"/home/vadams/Projects/entity-linking-research/NeMo/examples/nlp/entity_linking\"\n",
    "SAVE_NAME = \"augmented_medical_entity_linking_config.yaml\""
   ]
  },
  {
   "cell_type": "code",
   "execution_count": 3,
   "metadata": {},
   "outputs": [],
   "source": [
    "index_ds = OmegaConf.create({\n",
    "    \"name\": \"umls\",\n",
    "    \"data_file\": \"${project_dir}/data/umls_index_concepts.txt\",\n",
    "    \"max_seq_length\": \"${model.max_seq_length}\",\n",
    "    \"batch_size\": 128,\n",
    "    \"shuffle\": False,\n",
    "    \"num_workers\": 2,\n",
    "    \"pin_memory\": False,\n",
    "    \"drop_last\": False,\n",
    "})"
   ]
  },
  {
   "cell_type": "code",
   "execution_count": 4,
   "metadata": {},
   "outputs": [],
   "source": [
    "pca = OmegaConf.create({\n",
    "    \"input_dim\": 756,\n",
    "    \"output_dim\": \"${index.dims}\",\n",
    "    \"sample_fraction\": 0.5,\n",
    "    \"pca_save_name\": \"${project_dir}/${index.pca.input_dim}_to_${index.pca.output_dim}_pca_model.pkl\"\n",
    "})"
   ]
  },
  {
   "cell_type": "code",
   "execution_count": 5,
   "metadata": {},
   "outputs": [],
   "source": [
    "index = OmegaConf.create({\n",
    "    \"dims\": 256,\n",
    "    \"nlist\": 300,\n",
    "    \"query_num_factor\": 20,\n",
    "    \"index_save_name\":\"${project_dir}/medical_entity_linking_index\",\n",
    "    \"index_batch_size\": 1000,\n",
    "    \"dataset\": index_ds,\n",
    "    \"idx_to_id\": \"${project_dir}/data/idx_to_id.pkl\",\n",
    "    \"id_to_string\": \"${project_dir}/data/id_to_string.pkl\",\n",
    "    \"concept_id_save_name\": \"${project_dir}/data/concept_ids.pkl\",\n",
    "    \"embedding_save_name\": \"${project_dir}/data/medical_concept_embeddings.hdf5\",\n",
    "    \"pca_embeddings_save_name\": \"${project_dir}/data/medical_concept_reduced_${index.dims}dim_embeddings.hdf5\",\n",
    "    \"apply_pca\": True,\n",
    "    \"pca\": pca,\n",
    "})"
   ]
  },
  {
   "cell_type": "code",
   "execution_count": 6,
   "metadata": {},
   "outputs": [],
   "source": [
    "language_model = OmegaConf.create({\n",
    "    \"pretrained_model_name\": \"bert-base-uncased\",\n",
    "    \"config_file\": None,\n",
    "    \"config\": None,\n",
    "    \"lm_checkpoint\": None,\n",
    "    \n",
    "})"
   ]
  },
  {
   "cell_type": "code",
   "execution_count": 7,
   "metadata": {},
   "outputs": [],
   "source": [
    "tokenizer = OmegaConf.create({\n",
    "    \"tokenizer_name\": \"${model.language_model.pretrained_model_name}\",\n",
    "    #\"tokenizer_name\": \"bert-base-uncased\",\n",
    "    \"vocab_file\": None,\n",
    "    \"tokenizer_model\": None,\n",
    "    \"do_lower_case\": True,\n",
    "})"
   ]
  },
  {
   "cell_type": "code",
   "execution_count": 8,
   "metadata": {},
   "outputs": [],
   "source": [
    "train_ds = OmegaConf.create({\n",
    "    \"data_file\": \"${project_dir}/data/augmented_umls_train_pairs.txt\",\n",
    "    \"max_seq_length\": \"${model.max_seq_length}\",\n",
    "    \"batch_size\": 128,\n",
    "    \"shuffle\": True,\n",
    "    \"num_workers\": 2,\n",
    "    \"pin_memory\": False,\n",
    "    \"drop_last\": False,\n",
    "})"
   ]
  },
  {
   "cell_type": "code",
   "execution_count": 9,
   "metadata": {},
   "outputs": [],
   "source": [
    "validation_ds = OmegaConf.create({\n",
    "    \"data_file\": \"${project_dir}/data/augmented_umls_validation_pairs.txt\",\n",
    "    \"max_seq_length\": \"${model.max_seq_length}\",\n",
    "    \"batch_size\": 128,\n",
    "    \"shuffle\": False,\n",
    "    \"num_workers\": 2,\n",
    "    \"pin_memory\": False,\n",
    "    \"drop_last\": False,\n",
    "})"
   ]
  },
  {
   "cell_type": "code",
   "execution_count": 10,
   "metadata": {},
   "outputs": [],
   "source": [
    "sched = OmegaConf.create({\n",
    "    \"name\": \"CosineAnnealing\",\n",
    "    \"warmup_steps\": None,\n",
    "    \"warmup_ratio\": 0.1,\n",
    "    \"min_lr\": 0.0,\n",
    "    \"last_epoch\": -1,\n",
    "})\n",
    "\n",
    "optim = OmegaConf.create({\n",
    "    \"name\": \"adam\",\n",
    "    \"lr\": 3e-5,\n",
    "    \"weight_decay\": 0.0,\n",
    "    \"sched\": sched,\n",
    "})"
   ]
  },
  {
   "cell_type": "code",
   "execution_count": 11,
   "metadata": {},
   "outputs": [],
   "source": [
    "model = OmegaConf.create({\n",
    "    \"nemo_path\": \"${project_dir}/full_umls_sap_bert_model.nemo\",\n",
    "    \"max_seq_length\": 128,\n",
    "    \"language_model\": language_model,\n",
    "    \"tokenizer\": tokenizer,\n",
    "    \"train_ds\": train_ds,\n",
    "    \"validation_ds\": validation_ds,\n",
    "    \"optim\": optim,\n",
    "})"
   ]
  },
  {
   "cell_type": "code",
   "execution_count": 12,
   "metadata": {},
   "outputs": [],
   "source": [
    "trainer = OmegaConf.create({\n",
    "    \"gpus\": 2,\n",
    "    \"num_nodes\": 1,\n",
    "    \"max_epochs\": 1,\n",
    "    \"max_steps\": None,\n",
    "    \"accumulate_grad_batches\": 1,\n",
    "    \"precision\": 16,\n",
    "    \"amp_level\": \"O1\",\n",
    "    \"accelerator\": \"ddp\",\n",
    "    \"gradient_clip_val\": 0.0,\n",
    "    \"log_every_n_steps\": 1,\n",
    "    \"val_check_interval\": 5000,\n",
    "    \"checkpoint_callback\": False,\n",
    "    \"logger\": False\n",
    "    \n",
    "})"
   ]
  },
  {
   "cell_type": "code",
   "execution_count": 13,
   "metadata": {},
   "outputs": [],
   "source": [
    "exp_manager = OmegaConf.create({\n",
    "    \"exp_dir\": \"${project_dir}/medical_entity_linking_experiments\",\n",
    "    \"name\": \"SelfAlignmentPretrainingUMLS\",\n",
    "    \"create_tensorboard_logger\": True,\n",
    "    \"create_checkpoint_callback\": True,\n",
    "})"
   ]
  },
  {
   "cell_type": "code",
   "execution_count": 14,
   "metadata": {},
   "outputs": [],
   "source": [
    "hydra = OmegaConf.create({\n",
    "    \"run\": OmegaConf.create({\n",
    "        \"dir\": \".\"\n",
    "    }),\n",
    "    \n",
    "    \"job_logging\": OmegaConf.create({\n",
    "        \"root\": OmegaConf.create({\n",
    "            \"handlers\": None\n",
    "        })\n",
    "    }) \n",
    "})"
   ]
  },
  {
   "cell_type": "code",
   "execution_count": 15,
   "metadata": {},
   "outputs": [],
   "source": [
    "config = OmegaConf.create({\n",
    "    \"project_dir\": PROJECT_DIR,\n",
    "    \"name\": \"SelfAlignmentPretrainingForMedicalEntityLinking\",\n",
    "    \"trainer\": trainer,\n",
    "    \"model\": model,\n",
    "    \"index\": index,\n",
    "    \"exp_manager\": exp_manager,\n",
    "    \"hydra\": hydra,\n",
    "})"
   ]
  },
  {
   "cell_type": "code",
   "execution_count": 16,
   "metadata": {},
   "outputs": [
    {
     "name": "stdout",
     "output_type": "stream",
     "text": [
      "project_dir: /home/vadams/Projects/entity-linking-research/NeMo/examples/nlp/entity_linking\n",
      "name: SelfAlignmentPretrainingForMedicalEntityLinking\n",
      "trainer:\n",
      "  gpus: 2\n",
      "  num_nodes: 1\n",
      "  max_epochs: 1\n",
      "  max_steps: null\n",
      "  accumulate_grad_batches: 1\n",
      "  precision: 16\n",
      "  amp_level: O1\n",
      "  accelerator: ddp\n",
      "  gradient_clip_val: 0.0\n",
      "  log_every_n_steps: 1\n",
      "  val_check_interval: 5000\n",
      "  checkpoint_callback: false\n",
      "  logger: false\n",
      "model:\n",
      "  nemo_path: ${project_dir}/full_umls_sap_bert_model.nemo\n",
      "  max_seq_length: 128\n",
      "  language_model:\n",
      "    pretrained_model_name: bert-base-uncased\n",
      "    config_file: null\n",
      "    config: null\n",
      "    lm_checkpoint: null\n",
      "  tokenizer:\n",
      "    tokenizer_name: ${model.language_model.pretrained_model_name}\n",
      "    vocab_file: null\n",
      "    tokenizer_model: null\n",
      "    do_lower_case: true\n",
      "  train_ds:\n",
      "    data_file: ${project_dir}/data/augmented_umls_train_pairs.txt\n",
      "    max_seq_length: ${model.max_seq_length}\n",
      "    batch_size: 128\n",
      "    shuffle: true\n",
      "    num_workers: 2\n",
      "    pin_memory: false\n",
      "    drop_last: false\n",
      "  validation_ds:\n",
      "    data_file: ${project_dir}/data/augmented_umls_validation_pairs.txt\n",
      "    max_seq_length: ${model.max_seq_length}\n",
      "    batch_size: 128\n",
      "    shuffle: false\n",
      "    num_workers: 2\n",
      "    pin_memory: false\n",
      "    drop_last: false\n",
      "  optim:\n",
      "    name: adam\n",
      "    lr: 3.0e-05\n",
      "    weight_decay: 0.0\n",
      "    sched:\n",
      "      name: CosineAnnealing\n",
      "      warmup_steps: null\n",
      "      warmup_ratio: 0.1\n",
      "      min_lr: 0.0\n",
      "      last_epoch: -1\n",
      "index:\n",
      "  dims: 256\n",
      "  nlist: 300\n",
      "  query_num_factor: 20\n",
      "  index_save_name: ${project_dir}/medical_entity_linking_index\n",
      "  index_batch_size: 1000\n",
      "  dataset:\n",
      "    name: umls\n",
      "    data_file: ${project_dir}/data/umls_index_concepts.txt\n",
      "    max_seq_length: ${model.max_seq_length}\n",
      "    batch_size: 128\n",
      "    shuffle: false\n",
      "    num_workers: 2\n",
      "    pin_memory: false\n",
      "    drop_last: false\n",
      "  idx_to_id: ${project_dir}/data/idx_to_id.pkl\n",
      "  id_to_string: ${project_dir}/data/id_to_string.pkl\n",
      "  concept_id_save_name: ${project_dir}/data/concept_ids.pkl\n",
      "  embedding_save_name: ${project_dir}/data/medical_concept_embeddings.hdf5\n",
      "  pca_embeddings_save_name: ${project_dir}/data/medical_concept_reduced_${index.dims}dim_embeddings.hdf5\n",
      "  apply_pca: true\n",
      "  pca:\n",
      "    input_dim: 756\n",
      "    output_dim: ${index.dims}\n",
      "    sample_fraction: 0.5\n",
      "    pca_save_name: ${project_dir}/${index.pca.input_dim}_to_${index.pca.output_dim}_pca_model.pkl\n",
      "exp_manager:\n",
      "  exp_dir: ${project_dir}/medical_entity_linking_experiments\n",
      "  name: SelfAlignmentPretrainingUMLS\n",
      "  create_tensorboard_logger: true\n",
      "  create_checkpoint_callback: true\n",
      "hydra:\n",
      "  run:\n",
      "    dir: .\n",
      "  job_logging:\n",
      "    root:\n",
      "      handlers: null\n",
      "\n",
      "\n",
      "Config file updated and saved.\n",
      "\n"
     ]
    }
   ],
   "source": [
    "print(OmegaConf.to_yaml(config))\n",
    "config_file = open(f\"{PROJECT_DIR}/conf/{SAVE_NAME}\", \"w\")\n",
    "config = OmegaConf.to_yaml(config)\n",
    "yaml.dump(config, config_file)\n",
    "\n",
    "print(\"\\nConfig file updated and saved.\\n\")"
   ]
  },
  {
   "cell_type": "code",
   "execution_count": null,
   "metadata": {},
   "outputs": [],
   "source": []
  }
 ],
 "metadata": {
  "kernelspec": {
   "display_name": "Python 3",
   "language": "python",
   "name": "python3"
  },
  "language_info": {
   "codemirror_mode": {
    "name": "ipython",
    "version": 3
   },
   "file_extension": ".py",
   "mimetype": "text/x-python",
   "name": "python",
   "nbconvert_exporter": "python",
   "pygments_lexer": "ipython3",
   "version": "3.7.9"
  }
 },
 "nbformat": 4,
 "nbformat_minor": 4
}
